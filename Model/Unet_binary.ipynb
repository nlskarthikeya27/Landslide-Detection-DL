{
 "cells": [
  {
   "cell_type": "code",
   "execution_count": 3,
   "metadata": {},
   "outputs": [],
   "source": [
    "import tensorflow as tf\n",
    "from tensorflow.keras.preprocessing.image import ImageDataGenerator\n",
    "# Define recall metric\n",
    "def recall_m(y_true, y_pred):\n",
    "    true_positives = tf.keras.backend.sum(tf.keras.backend.round(tf.keras.backend.clip(y_true * y_pred, 0, 1)))\n",
    "    possible_positives = tf.keras.backend.sum(tf.keras.backend.round(tf.keras.backend.clip(y_true, 0, 1)))\n",
    "    recall = true_positives / (possible_positives + tf.keras.backend.epsilon())\n",
    "    return recall\n",
    "\n",
    "# Define precision metric\n",
    "def precision_m(y_true, y_pred):\n",
    "    true_positives = tf.keras.backend.sum(tf.keras.backend.round(tf.keras.backend.clip(y_true * y_pred, 0, 1)))\n",
    "    predicted_positives = tf.keras.backend.sum(tf.keras.backend.round(tf.keras.backend.clip(y_pred, 0, 1)))\n",
    "    precision = true_positives / (predicted_positives + tf.keras.backend.epsilon())\n",
    "    return precision\n",
    "\n",
    "# Define F1 score metric\n",
    "def f1_m(y_true, y_pred):\n",
    "    precision = precision_m(y_true, y_pred)\n",
    "    recall = recall_m(y_true, y_pred)\n",
    "    return 2 * (precision * recall) / (precision + recall + tf.keras.backend.epsilon())"
   ]
  },
  {
   "cell_type": "code",
   "execution_count": 12,
   "metadata": {},
   "outputs": [],
   "source": [
    "train_datagen = ImageDataGenerator(\n",
    "    rescale=1./255,\n",
    "    validation_split=0.2,\n",
    "    rotation_range=20,\n",
    "    width_shift_range=0.2,\n",
    "    height_shift_range=0.2,\n",
    "    shear_range=0.2,\n",
    "    zoom_range=0.2,\n",
    "    horizontal_flip=True\n",
    ")\n"
   ]
  },
  {
   "cell_type": "code",
   "execution_count": 13,
   "metadata": {},
   "outputs": [
    {
     "name": "stdout",
     "output_type": "stream",
     "text": [
      "Found 1272 images belonging to 2 classes.\n"
     ]
    }
   ],
   "source": [
    "train_data = train_datagen.flow_from_directory(\n",
    "    'C:/Users/kvsud/OneDrive/Desktop/ML/DL/Data/train',  # Parent directory containing Landslide and Non-Landslides folders\n",
    "    target_size=(224, 224),\n",
    "    batch_size=32,\n",
    "    class_mode='binary',\n",
    "    subset='training'\n",
    ")"
   ]
  },
  {
   "cell_type": "code",
   "execution_count": 14,
   "metadata": {},
   "outputs": [
    {
     "name": "stdout",
     "output_type": "stream",
     "text": [
      "Found 318 images belonging to 2 classes.\n"
     ]
    }
   ],
   "source": [
    "val_data = train_datagen.flow_from_directory(\n",
    "    'C:/Users/kvsud/OneDrive/Desktop/ML/DL/Data/train',\n",
    "    target_size=(224, 224),\n",
    "    batch_size=32,\n",
    "    class_mode='binary',\n",
    "    subset='validation'\n",
    ")"
   ]
  },
  {
   "cell_type": "code",
   "execution_count": 8,
   "metadata": {},
   "outputs": [],
   "source": [
    "# Define the U-Net model for binary classification\n",
    "def unet_classification_model():\n",
    "    inputs = tf.keras.layers.Input((224, 224, 3))\n",
    "\n",
    "    # Contraction path\n",
    "    c1 = tf.keras.layers.Conv2D(16, (3, 3), activation='relu', kernel_initializer='he_normal', padding='same')(inputs)\n",
    "    c1 = tf.keras.layers.Dropout(0.1)(c1)\n",
    "    c1 = tf.keras.layers.Conv2D(16, (3, 3), activation='relu', kernel_initializer='he_normal', padding='same')(c1)\n",
    "    p1 = tf.keras.layers.MaxPooling2D((2, 2))(c1)\n",
    "\n",
    "    c2 = tf.keras.layers.Conv2D(32, (3, 3), activation='relu', kernel_initializer='he_normal', padding='same')(p1)\n",
    "    c2 = tf.keras.layers.Dropout(0.1)(c2)\n",
    "    c2 = tf.keras.layers.Conv2D(32, (3, 3), activation='relu', kernel_initializer='he_normal', padding='same')(c2)\n",
    "    p2 = tf.keras.layers.MaxPooling2D((2, 2))(c2)\n",
    "\n",
    "    c3 = tf.keras.layers.Conv2D(64, (3, 3), activation='relu', kernel_initializer='he_normal', padding='same')(p2)\n",
    "    c3 = tf.keras.layers.Dropout(0.2)(c3)\n",
    "    c3 = tf.keras.layers.Conv2D(64, (3, 3), activation='relu', kernel_initializer='he_normal', padding='same')(c3)\n",
    "    p3 = tf.keras.layers.MaxPooling2D((2, 2))(c3)\n",
    "\n",
    "    c4 = tf.keras.layers.Conv2D(128, (3, 3), activation='relu', kernel_initializer='he_normal', padding='same')(p3)\n",
    "    c4 = tf.keras.layers.Dropout(0.2)(c4)\n",
    "    c4 = tf.keras.layers.Conv2D(128, (3, 3), activation='relu', kernel_initializer='he_normal', padding='same')(c4)\n",
    "    p4 = tf.keras.layers.MaxPooling2D((2, 2))(c4)\n",
    "\n",
    "    c5 = tf.keras.layers.Conv2D(256, (3, 3), activation='relu', kernel_initializer='he_normal', padding='same')(p4)\n",
    "    c5 = tf.keras.layers.Dropout(0.3)(c5)\n",
    "    c5 = tf.keras.layers.Conv2D(256, (3, 3), activation='relu', kernel_initializer='he_normal', padding='same')(c5)\n",
    "\n",
    "    # Expansive path\n",
    "    u6 = tf.keras.layers.Conv2DTranspose(128, (2, 2), strides=(2, 2), padding='same')(c5)\n",
    "    u6 = tf.keras.layers.concatenate([u6, c4])\n",
    "    c6 = tf.keras.layers.Conv2D(128, (3, 3), activation='relu', kernel_initializer='he_normal', padding='same')(u6)\n",
    "    c6 = tf.keras.layers.Dropout(0.2)(c6)\n",
    "    c6 = tf.keras.layers.Conv2D(128, (3, 3), activation='relu', kernel_initializer='he_normal', padding='same')(c6)\n",
    "\n",
    "    u7 = tf.keras.layers.Conv2DTranspose(64, (2, 2), strides=(2, 2), padding='same')(c6)\n",
    "    u7 = tf.keras.layers.concatenate([u7, c3])\n",
    "    c7 = tf.keras.layers.Conv2D(64, (3, 3), activation='relu', kernel_initializer='he_normal', padding='same')(u7)\n",
    "    c7 = tf.keras.layers.Dropout(0.2)(c7)\n",
    "    c7 = tf.keras.layers.Conv2D(64, (3, 3), activation='relu', kernel_initializer='he_normal', padding='same')(c7)\n",
    "\n",
    "    u8 = tf.keras.layers.Conv2DTranspose(32, (2, 2), strides=(2, 2), padding='same')(c7)\n",
    "    u8 = tf.keras.layers.concatenate([u8, c2])\n",
    "    c8 = tf.keras.layers.Conv2D(32, (3, 3), activation='relu', kernel_initializer='he_normal', padding='same')(u8)\n",
    "    c8 = tf.keras.layers.Dropout(0.1)(c8)\n",
    "    c8 = tf.keras.layers.Conv2D(32, (3, 3), activation='relu', kernel_initializer='he_normal', padding='same')(c8)\n",
    "\n",
    "    u9 = tf.keras.layers.Conv2DTranspose(16, (2, 2), strides=(2, 2), padding='same')(c8)\n",
    "    u9 = tf.keras.layers.concatenate([u9, c1])\n",
    "    c9 = tf.keras.layers.Conv2D(16, (3, 3), activation='relu', kernel_initializer='he_normal', padding='same')(u9)\n",
    "    c9 = tf.keras.layers.Dropout(0.1)(c9)\n",
    "    c9 = tf.keras.layers.Conv2D(16, (3, 3), activation='relu', kernel_initializer='he_normal', padding='same')(c9)\n",
    "\n",
    "    # Flatten and add dense layers for binary classification\n",
    "    flattened = tf.keras.layers.Flatten()(c9)\n",
    "    dense1 = tf.keras.layers.Dense(64, activation='relu')(flattened)\n",
    "    dropout = tf.keras.layers.Dropout(0.5)(dense1)\n",
    "    outputs = tf.keras.layers.Dense(1, activation='sigmoid')(dropout)  # Sigmoid for binary classification\n",
    "\n",
    "    model = tf.keras.Model(inputs=[inputs], outputs=[outputs])\n",
    "    model.compile(optimizer='adam', loss='binary_crossentropy', metrics=['accuracy', f1_m, precision_m, recall_m])\n",
    "\n",
    "    return model\n"
   ]
  },
  {
   "cell_type": "code",
   "execution_count": 16,
   "metadata": {},
   "outputs": [],
   "source": [
    "model = unet_classification_model()"
   ]
  },
  {
   "cell_type": "code",
   "execution_count": 17,
   "metadata": {},
   "outputs": [
    {
     "name": "stdout",
     "output_type": "stream",
     "text": [
      "Epoch 1/20\n",
      "40/40 [==============================] - 416s 10s/step - loss: 2.2986 - accuracy: 0.5134 - f1_m: 0.5172 - precision_m: 0.5343 - recall_m: 0.5595 - val_loss: 0.6927 - val_accuracy: 0.5912 - val_f1_m: 0.5763 - val_precision_m: 0.6213 - val_recall_m: 0.5444\n",
      "Epoch 2/20\n",
      "40/40 [==============================] - 290s 7s/step - loss: 0.6851 - accuracy: 0.5582 - f1_m: 0.6064 - precision_m: 0.5550 - recall_m: 0.6927 - val_loss: 0.6884 - val_accuracy: 0.5063 - val_f1_m: 0.1833 - val_precision_m: 0.6717 - val_recall_m: 0.1089\n",
      "Epoch 3/20\n",
      "40/40 [==============================] - 294s 7s/step - loss: 0.6687 - accuracy: 0.5928 - f1_m: 0.6119 - precision_m: 0.6051 - recall_m: 0.6654 - val_loss: 0.6497 - val_accuracy: 0.7075 - val_f1_m: 0.6432 - val_precision_m: 0.8315 - val_recall_m: 0.5348\n",
      "Epoch 4/20\n",
      "40/40 [==============================] - 381s 9s/step - loss: 0.6246 - accuracy: 0.6541 - f1_m: 0.6831 - precision_m: 0.6368 - recall_m: 0.7661 - val_loss: 0.5656 - val_accuracy: 0.8082 - val_f1_m: 0.8083 - val_precision_m: 0.8171 - val_recall_m: 0.8094\n",
      "Epoch 5/20\n",
      "40/40 [==============================] - 415s 10s/step - loss: 0.6237 - accuracy: 0.6470 - f1_m: 0.6933 - precision_m: 0.6199 - recall_m: 0.8077 - val_loss: 0.6045 - val_accuracy: 0.6981 - val_f1_m: 0.7148 - val_precision_m: 0.6751 - val_recall_m: 0.7644\n",
      "Epoch 6/20\n",
      "40/40 [==============================] - 406s 10s/step - loss: 0.5958 - accuracy: 0.6950 - f1_m: 0.7521 - precision_m: 0.6438 - recall_m: 0.9192 - val_loss: 0.5771 - val_accuracy: 0.7516 - val_f1_m: 0.7683 - val_precision_m: 0.7244 - val_recall_m: 0.8252\n",
      "Epoch 7/20\n",
      "40/40 [==============================] - 423s 11s/step - loss: 0.5633 - accuracy: 0.7068 - f1_m: 0.7538 - precision_m: 0.6595 - recall_m: 0.8895 - val_loss: 0.5739 - val_accuracy: 0.7736 - val_f1_m: 0.7707 - val_precision_m: 0.7950 - val_recall_m: 0.7538\n",
      "Epoch 8/20\n",
      "40/40 [==============================] - 398s 10s/step - loss: 0.5442 - accuracy: 0.7406 - f1_m: 0.7774 - precision_m: 0.6947 - recall_m: 0.8974 - val_loss: 0.5539 - val_accuracy: 0.7358 - val_f1_m: 0.7528 - val_precision_m: 0.7165 - val_recall_m: 0.8037\n",
      "Epoch 9/20\n",
      "40/40 [==============================] - 381s 10s/step - loss: 0.5578 - accuracy: 0.7358 - f1_m: 0.7711 - precision_m: 0.6885 - recall_m: 0.8922 - val_loss: 0.6349 - val_accuracy: 0.7233 - val_f1_m: 0.7373 - val_precision_m: 0.7129 - val_recall_m: 0.7892\n",
      "Epoch 10/20\n",
      "40/40 [==============================] - 438s 11s/step - loss: 0.5299 - accuracy: 0.7296 - f1_m: 0.7726 - precision_m: 0.6785 - recall_m: 0.9163 - val_loss: 0.5983 - val_accuracy: 0.7421 - val_f1_m: 0.7500 - val_precision_m: 0.7343 - val_recall_m: 0.7795\n",
      "Epoch 11/20\n",
      "40/40 [==============================] - 393s 10s/step - loss: 0.5402 - accuracy: 0.7241 - f1_m: 0.7700 - precision_m: 0.6702 - recall_m: 0.9189 - val_loss: 0.5046 - val_accuracy: 0.7893 - val_f1_m: 0.7908 - val_precision_m: 0.7594 - val_recall_m: 0.8304\n",
      "Epoch 12/20\n",
      "40/40 [==============================] - 389s 10s/step - loss: 0.4989 - accuracy: 0.7500 - f1_m: 0.7855 - precision_m: 0.7004 - recall_m: 0.9059 - val_loss: 0.5820 - val_accuracy: 0.7767 - val_f1_m: 0.7824 - val_precision_m: 0.7734 - val_recall_m: 0.8004\n",
      "Epoch 13/20\n",
      "40/40 [==============================] - 384s 10s/step - loss: 0.5231 - accuracy: 0.7610 - f1_m: 0.7913 - precision_m: 0.7135 - recall_m: 0.8986 - val_loss: 0.5290 - val_accuracy: 0.7862 - val_f1_m: 0.7840 - val_precision_m: 0.8148 - val_recall_m: 0.7647\n",
      "Epoch 14/20\n",
      "40/40 [==============================] - 393s 10s/step - loss: 0.4512 - accuracy: 0.7783 - f1_m: 0.8058 - precision_m: 0.7262 - recall_m: 0.9178 - val_loss: 0.6133 - val_accuracy: 0.7736 - val_f1_m: 0.7558 - val_precision_m: 0.8322 - val_recall_m: 0.6986\n",
      "Epoch 15/20\n",
      "40/40 [==============================] - 373s 9s/step - loss: 0.5167 - accuracy: 0.7437 - f1_m: 0.7820 - precision_m: 0.6944 - recall_m: 0.9115 - val_loss: 0.5544 - val_accuracy: 0.7799 - val_f1_m: 0.7605 - val_precision_m: 0.8371 - val_recall_m: 0.7088\n",
      "Epoch 16/20\n",
      "40/40 [==============================] - 374s 9s/step - loss: 0.4587 - accuracy: 0.7752 - f1_m: 0.8033 - precision_m: 0.7261 - recall_m: 0.9084 - val_loss: 0.5222 - val_accuracy: 0.8270 - val_f1_m: 0.8383 - val_precision_m: 0.8071 - val_recall_m: 0.8795\n",
      "Epoch 17/20\n",
      "40/40 [==============================] - 366s 9s/step - loss: 0.4769 - accuracy: 0.7657 - f1_m: 0.7998 - precision_m: 0.7033 - recall_m: 0.9411 - val_loss: 0.6425 - val_accuracy: 0.7956 - val_f1_m: 0.7832 - val_precision_m: 0.8403 - val_recall_m: 0.7415\n",
      "Epoch 18/20\n",
      "40/40 [==============================] - 378s 9s/step - loss: 0.4499 - accuracy: 0.7752 - f1_m: 0.7974 - precision_m: 0.7269 - recall_m: 0.8933 - val_loss: 0.5430 - val_accuracy: 0.7925 - val_f1_m: 0.7813 - val_precision_m: 0.8358 - val_recall_m: 0.7420\n",
      "Epoch 19/20\n",
      "40/40 [==============================] - 275s 7s/step - loss: 0.4916 - accuracy: 0.7303 - f1_m: 0.7748 - precision_m: 0.6813 - recall_m: 0.9179 - val_loss: 0.5245 - val_accuracy: 0.7484 - val_f1_m: 0.7893 - val_precision_m: 0.6944 - val_recall_m: 0.9233\n",
      "Epoch 20/20\n",
      "40/40 [==============================] - 344s 9s/step - loss: 0.4732 - accuracy: 0.7759 - f1_m: 0.7998 - precision_m: 0.7338 - recall_m: 0.8963 - val_loss: 0.6878 - val_accuracy: 0.7925 - val_f1_m: 0.7790 - val_precision_m: 0.8656 - val_recall_m: 0.7168\n"
     ]
    }
   ],
   "source": [
    "history = model.fit(\n",
    "    train_data,\n",
    "    validation_data=val_data,\n",
    "    epochs=20  # Adjust the number of epochs as needed\n",
    ")"
   ]
  },
  {
   "cell_type": "code",
   "execution_count": 18,
   "metadata": {},
   "outputs": [
    {
     "name": "stdout",
     "output_type": "stream",
     "text": [
      "10/10 [==============================] - 7s 651ms/step - loss: 0.6128 - accuracy: 0.7925 - f1_m: 0.7755 - precision_m: 0.8241 - recall_m: 0.7376\n"
     ]
    },
    {
     "data": {
      "text/plain": [
       "[0.6128371357917786,\n",
       " 0.7924528121948242,\n",
       " 0.775530219078064,\n",
       " 0.8240969777107239,\n",
       " 0.7376168370246887]"
      ]
     },
     "execution_count": 18,
     "metadata": {},
     "output_type": "execute_result"
    }
   ],
   "source": [
    "model.evaluate(val_data)"
   ]
  },
  {
   "cell_type": "code",
   "execution_count": null,
   "metadata": {},
   "outputs": [],
   "source": []
  },
  {
   "cell_type": "code",
   "execution_count": null,
   "metadata": {},
   "outputs": [],
   "source": []
  },
  {
   "cell_type": "code",
   "execution_count": null,
   "metadata": {},
   "outputs": [],
   "source": []
  },
  {
   "cell_type": "code",
   "execution_count": null,
   "metadata": {},
   "outputs": [],
   "source": []
  },
  {
   "cell_type": "code",
   "execution_count": null,
   "metadata": {},
   "outputs": [],
   "source": []
  },
  {
   "cell_type": "code",
   "execution_count": null,
   "metadata": {},
   "outputs": [],
   "source": []
  },
  {
   "cell_type": "code",
   "execution_count": null,
   "metadata": {},
   "outputs": [],
   "source": []
  },
  {
   "cell_type": "code",
   "execution_count": null,
   "metadata": {},
   "outputs": [],
   "source": []
  },
  {
   "cell_type": "code",
   "execution_count": null,
   "metadata": {},
   "outputs": [],
   "source": []
  },
  {
   "cell_type": "code",
   "execution_count": null,
   "metadata": {},
   "outputs": [],
   "source": []
  },
  {
   "cell_type": "code",
   "execution_count": null,
   "metadata": {},
   "outputs": [],
   "source": []
  },
  {
   "cell_type": "code",
   "execution_count": null,
   "metadata": {},
   "outputs": [],
   "source": []
  },
  {
   "cell_type": "code",
   "execution_count": null,
   "metadata": {},
   "outputs": [],
   "source": []
  },
  {
   "cell_type": "code",
   "execution_count": null,
   "metadata": {},
   "outputs": [],
   "source": []
  },
  {
   "cell_type": "code",
   "execution_count": null,
   "metadata": {},
   "outputs": [],
   "source": []
  },
  {
   "cell_type": "code",
   "execution_count": null,
   "metadata": {},
   "outputs": [],
   "source": []
  },
  {
   "cell_type": "code",
   "execution_count": null,
   "metadata": {},
   "outputs": [],
   "source": []
  },
  {
   "cell_type": "code",
   "execution_count": null,
   "metadata": {},
   "outputs": [],
   "source": []
  }
 ],
 "metadata": {
  "kernelspec": {
   "display_name": "Python 3",
   "language": "python",
   "name": "python3"
  },
  "language_info": {
   "codemirror_mode": {
    "name": "ipython",
    "version": 3
   },
   "file_extension": ".py",
   "mimetype": "text/x-python",
   "name": "python",
   "nbconvert_exporter": "python",
   "pygments_lexer": "ipython3",
   "version": "3.11.1"
  }
 },
 "nbformat": 4,
 "nbformat_minor": 2
}
